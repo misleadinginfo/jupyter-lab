{
 "cells": [
  {
   "cell_type": "code",
   "execution_count": 1,
   "metadata": {},
   "outputs": [],
   "source": [
    "from ipynb.fs.full.Infer_propagation_path_functions import *\n",
    "\n",
    "from pymongo import MongoClient"
   ]
  },
  {
   "cell_type": "code",
   "execution_count": 2,
   "metadata": {},
   "outputs": [],
   "source": [
    "client = MongoClient('mongodb://localhost:27017/')\n",
    "\n",
    "db = client.get_database('tweets')"
   ]
  },
  {
   "cell_type": "code",
   "execution_count": 3,
   "metadata": {
    "scrolled": true,
    "tags": []
   },
   "outputs": [
    {
     "data": {
      "text/plain": [
       "[226926116,\n",
       " 1236768180737126400,\n",
       " 1325149010852794368,\n",
       " 990910333865820160,\n",
       " 1249929996686086144,\n",
       " 1249929996686086144,\n",
       " 1349468181232971779,\n",
       " 1349468181232971779,\n",
       " 987306324932419584,\n",
       " 65355675,\n",
       " 1387709299602780160,\n",
       " 1378043127232135169,\n",
       " 1188422677586948096,\n",
       " 3230908953,\n",
       " 561408132,\n",
       " 862525332255121408,\n",
       " 19921353,\n",
       " 3620255296,\n",
       " 3425493400,\n",
       " 179653016,\n",
       " 2983598331,\n",
       " 1102108676784091137,\n",
       " 1199929693799092224,\n",
       " 886339379056259072,\n",
       " 2994284506,\n",
       " 1337129481954275328,\n",
       " 1491161642,\n",
       " 1119222240,\n",
       " 3164462665,\n",
       " 278809540,\n",
       " 1380180010519105538,\n",
       " 1372525357870514176,\n",
       " 455051935,\n",
       " 14294848,\n",
       " 1205281010952396800,\n",
       " 1005103898556760064,\n",
       " 1258104609433948160,\n",
       " 20560162,\n",
       " 821916207288877056,\n",
       " 107772974,\n",
       " 89832404,\n",
       " 17698458,\n",
       " 1026339282271838209,\n",
       " 19292897,\n",
       " 845761418,\n",
       " 1254877783622324224,\n",
       " 793967468108742656,\n",
       " 1216242274436288513,\n",
       " 77874080,\n",
       " 1289892015560372226,\n",
       " 1259323139286339586,\n",
       " 1142990874,\n",
       " 1144017591402401792,\n",
       " 951917441168404485,\n",
       " 51524113,\n",
       " 1286752720364490752,\n",
       " 1363352364296536064,\n",
       " 1363352364296536064,\n",
       " 1262301025,\n",
       " 1258193558953172992,\n",
       " 1688189977,\n",
       " 779319383839612928,\n",
       " 44974548,\n",
       " 84080516,\n",
       " 80022285,\n",
       " 1256541722248482816,\n",
       " 1247780339130368000,\n",
       " 1167037307200794625,\n",
       " 326671917,\n",
       " 1106991153910611968,\n",
       " 2334990637,\n",
       " 1266055332150706178,\n",
       " 1188096866568663040,\n",
       " 1301667608396066816,\n",
       " 385040138,\n",
       " 904263883719835648,\n",
       " 1165651610,\n",
       " 1074690042092797952,\n",
       " 2324067251,\n",
       " 431431117,\n",
       " 1016098315958710272,\n",
       " 1321225273002569728,\n",
       " 892312060587069441,\n",
       " 550053455,\n",
       " 186931688,\n",
       " 1375392871881314305,\n",
       " 367016263,\n",
       " 1305834907902631937,\n",
       " 1193792889056313344,\n",
       " 184117280,\n",
       " 1064932688677822468,\n",
       " 1391025913576493059,\n",
       " 1318965735998279680,\n",
       " 3045779649]"
      ]
     },
     "execution_count": 3,
     "metadata": {},
     "output_type": "execute_result"
    }
   ],
   "source": [
    "COLLECTION_NAME = 'data_false_6'\n",
    "tweets = db[COLLECTION_NAME].find({})\n",
    "followers = db['followers'].find({})\n",
    "\n",
    "tweet_user_ids = []\n",
    "for tweet in tweets:\n",
    "    tweet_user_ids.append(tweet['user']['id'])\n",
    "\n",
    "tweet_user_ids"
   ]
  },
  {
   "cell_type": "code",
   "execution_count": 4,
   "metadata": {
    "scrolled": true,
    "tags": []
   },
   "outputs": [
    {
     "name": "stdout",
     "output_type": "stream",
     "text": [
      "{14294848, 3620255296, 1258193558953172992, 226926116, 1254877783622324224, 700937781267156992, 1491161642, 1165651610, 886339379056259072, 1247780339130368000, 1378043127232135169, 3230908953, 987306324932419584}\n"
     ]
    },
    {
     "ename": "NameError",
     "evalue": "name 'db' is not defined",
     "output_type": "error",
     "traceback": [
      "\u001b[1;31m---------------------------------------------------------------------------\u001b[0m",
      "\u001b[1;31mNameError\u001b[0m                                 Traceback (most recent call last)",
      "\u001b[1;32m<ipython-input-4-2f8a6b6881c6>\u001b[0m in \u001b[0;36m<module>\u001b[1;34m\u001b[0m\n\u001b[0;32m     81\u001b[0m         \u001b[0mprint\u001b[0m\u001b[1;33m(\u001b[0m\u001b[1;34m\"%s user_id: %s, created_at: %s, difference_seconds: %s\"\u001b[0m \u001b[1;33m%\u001b[0m \u001b[1;33m(\u001b[0m\u001b[0mpre\u001b[0m\u001b[1;33m,\u001b[0m \u001b[0mnode\u001b[0m\u001b[1;33m.\u001b[0m\u001b[0mname\u001b[0m\u001b[1;33m,\u001b[0m \u001b[0mnode\u001b[0m\u001b[1;33m.\u001b[0m\u001b[0mcreated_at\u001b[0m\u001b[1;33m,\u001b[0m \u001b[0mnode\u001b[0m\u001b[1;33m.\u001b[0m\u001b[0mdifference_seconds\u001b[0m\u001b[1;33m)\u001b[0m\u001b[1;33m)\u001b[0m\u001b[1;33m\u001b[0m\u001b[1;33m\u001b[0m\u001b[0m\n\u001b[0;32m     82\u001b[0m \u001b[1;32melse\u001b[0m\u001b[1;33m:\u001b[0m\u001b[1;33m\u001b[0m\u001b[1;33m\u001b[0m\u001b[0m\n\u001b[1;32m---> 83\u001b[1;33m     \u001b[0mmultiple_root_users\u001b[0m\u001b[1;33m(\u001b[0m\u001b[0mroot_tweet\u001b[0m\u001b[1;33m)\u001b[0m\u001b[1;33m\u001b[0m\u001b[1;33m\u001b[0m\u001b[0m\n\u001b[0m\u001b[0;32m     84\u001b[0m \u001b[1;31m#     raise('Cascade has more than one root user')\u001b[0m\u001b[1;33m\u001b[0m\u001b[1;33m\u001b[0m\u001b[1;33m\u001b[0m\u001b[0m\n",
      "\u001b[1;32m~\\jupyter_lab\\infer_propagation_paths\\Infer_propagation_path_functions.ipynb\u001b[0m in \u001b[0;36mmultiple_root_users\u001b[1;34m(root_tweet)\u001b[0m\n\u001b[0;32m    106\u001b[0m   {\n\u001b[0;32m    107\u001b[0m    \u001b[1;34m\"cell_type\"\u001b[0m\u001b[1;33m:\u001b[0m \u001b[1;34m\"code\"\u001b[0m\u001b[1;33m,\u001b[0m\u001b[1;33m\u001b[0m\u001b[1;33m\u001b[0m\u001b[0m\n\u001b[1;32m--> 108\u001b[1;33m    \u001b[1;34m\"execution_count\"\u001b[0m\u001b[1;33m:\u001b[0m \u001b[1;36m6\u001b[0m\u001b[1;33m,\u001b[0m\u001b[1;33m\u001b[0m\u001b[1;33m\u001b[0m\u001b[0m\n\u001b[0m\u001b[0;32m    109\u001b[0m    \u001b[1;34m\"metadata\"\u001b[0m\u001b[1;33m:\u001b[0m \u001b[1;33m{\u001b[0m\u001b[1;33m}\u001b[0m\u001b[1;33m,\u001b[0m\u001b[1;33m\u001b[0m\u001b[1;33m\u001b[0m\u001b[0m\n\u001b[0;32m    110\u001b[0m    \u001b[1;34m\"outputs\"\u001b[0m\u001b[1;33m:\u001b[0m \u001b[1;33m[\u001b[0m\u001b[1;33m]\u001b[0m\u001b[1;33m,\u001b[0m\u001b[1;33m\u001b[0m\u001b[1;33m\u001b[0m\u001b[0m\n",
      "\u001b[1;31mNameError\u001b[0m: name 'db' is not defined"
     ]
    }
   ],
   "source": [
    "'''\n",
    "has a root user 1\n",
    "root user has followers 1\n",
    "If a root user followers intersects with tweets, they are cascade depth one users 1\n",
    "if a cascade depth one user followers intersects with tweets, they are cascade depth two users\n",
    "...\n",
    "if a cascade depth n-1 user followers intersects with tweets, they are cascade depth n users\n",
    "\n",
    "Lets say parent user publish a tweet and the child re-tweet that exact tweet.\n",
    "child timestamp must be after the parent's time stamp\n",
    "If child has many parents, parent with the most recent time stamp will be the owner of the child tweet  \n",
    "'''\n",
    "tweets = db[COLLECTION_NAME].find({})\n",
    "#get root tweet\n",
    "root_tweet = set()\n",
    "for tweet in tweets:\n",
    "    try:\n",
    "        root_tweet.add(tweet['retweeted_status']['user']['id'])\n",
    "    except KeyError as e:\n",
    "        continue\n",
    "print(root_tweet)\n",
    "\n",
    "tweets = db[COLLECTION_NAME].find({})\n",
    "\n",
    "# Create root node user_id, created_at\n",
    "\n",
    "if len(root_tweet) == 1:\n",
    "    for tweet in tweets:\n",
    "        try:\n",
    "            user_id = tweet['retweeted_status']['user']['id']\n",
    "            created_at = tweet['retweeted_status']['created_at']\n",
    "        except KeyError as e:\n",
    "            continue\n",
    "            \n",
    "    print(user_id, created_at)\n",
    "\n",
    "    root = Node(name = user_id, created_at = created_at, difference_seconds =  0)\n",
    "    print(root.name)\n",
    "\n",
    "    follower = db['followers'].find_one({'user_id' : root.name})\n",
    "    try:\n",
    "        print(follower['user_id'])\n",
    "    except:\n",
    "        print('None, DB does not have the user: ', root.name)\n",
    "        \n",
    "    #get depth 1 users\n",
    "\n",
    "    if follower['user_id'] == root.name:\n",
    "        root_followers = follower['followers']           \n",
    "\n",
    "    root_followers\n",
    "\n",
    "    tweets = db[COLLECTION_NAME].find({})\n",
    "    followers = db['followers'].find({})\n",
    "\n",
    "    tweet_user_ids = []\n",
    "    for tweet in tweets:\n",
    "        tweet_user_ids.append(tweet['user']['id'])\n",
    "\n",
    "    tweet_user_ids\n",
    "\n",
    "    cascade_depth_one_user_ids = list(set(root_followers) & set(tweet_user_ids))\n",
    "\n",
    "    len(cascade_depth_one_user_ids)\n",
    "\n",
    "    tweets = db[COLLECTION_NAME].find({})\n",
    "    followers = db['followers'].find({})\n",
    "\n",
    "    # add depth 1 users to the tree\n",
    "    for user_id in cascade_depth_one_user_ids:\n",
    "        tweets = db[COLLECTION_NAME].find({})\n",
    "        for tweet in tweets:\n",
    "            if tweet['user']['id'] == user_id:\n",
    "                print(tweet['created_at'])\n",
    "                difference = difference_datetime(tweet['created_at'], root.created_at).total_seconds()\n",
    "                print(difference)\n",
    "                globals()[f'user_{user_id}'] = Node(name = user_id, created_at = tweet['created_at'], difference_seconds = difference , parent = root)\n",
    "\n",
    "\n",
    "    for pre, fill, node in RenderTree(root):\n",
    "        print(\"%s user_id: %s, created_at: %s, difference_seconds: %s\" % (pre, node.name, node.created_at, node.difference_seconds))\n",
    "else:\n",
    "    multiple_root_users(root_tweet)\n",
    "#     raise('Cascade has more than one root user')"
   ]
  },
  {
   "cell_type": "code",
   "execution_count": 5,
   "metadata": {},
   "outputs": [],
   "source": [
    "users= [14294848, 3620255296, 1258193558953172992, 226926116, 1254877783622324224, 700937781267156992, 1491161642, 1165651610, 886339379056259072, 1247780339130368000, 1378043127232135169, 3230908953, 987306324932419584]"
   ]
  },
  {
   "cell_type": "code",
   "execution_count": 6,
   "metadata": {
    "scrolled": true,
    "tags": []
   },
   "outputs": [
    {
     "name": "stdout",
     "output_type": "stream",
     "text": [
      "14294848 0\n",
      "3620255296 0\n",
      "1258193558953172992 0\n",
      "226926116 0\n",
      "1254877783622324224 0\n",
      "700937781267156992 0\n",
      "1491161642 0\n",
      "1165651610 0\n",
      "886339379056259072 0\n",
      "1247780339130368000 0\n",
      "1378043127232135169 0\n",
      "3230908953 0\n",
      "987306324932419584 0\n"
     ]
    }
   ],
   "source": [
    "for user in users:\n",
    "    print(user, get_followers_len(user, db))"
   ]
  },
  {
   "cell_type": "code",
   "execution_count": 7,
   "metadata": {
    "scrolled": true,
    "tags": []
   },
   "outputs": [
    {
     "name": "stdout",
     "output_type": "stream",
     "text": [
      "14294848 11\n",
      "3620255296 2\n",
      "1258193558953172992 1\n",
      "226926116 1\n",
      "1254877783622324224 1\n",
      "700937781267156992 1\n",
      "1491161642 2\n",
      "1165651610 16\n",
      "886339379056259072 8\n",
      "1247780339130368000 7\n",
      "1378043127232135169 1\n",
      "3230908953 2\n",
      "987306324932419584 1\n"
     ]
    }
   ],
   "source": [
    "for user in users:\n",
    "    print(user, get_cascade_size(user, 'data_false_6', db))"
   ]
  }
 ],
 "metadata": {
  "kernelspec": {
   "display_name": "Python 3",
   "language": "python",
   "name": "python3"
  },
  "language_info": {
   "codemirror_mode": {
    "name": "ipython",
    "version": 3
   },
   "file_extension": ".py",
   "mimetype": "text/x-python",
   "name": "python",
   "nbconvert_exporter": "python",
   "pygments_lexer": "ipython3",
   "version": "3.7.6"
  }
 },
 "nbformat": 4,
 "nbformat_minor": 4
}
