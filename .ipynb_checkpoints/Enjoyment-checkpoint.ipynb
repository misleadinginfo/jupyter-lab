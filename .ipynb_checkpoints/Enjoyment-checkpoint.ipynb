{
 "cells": [
  {
   "cell_type": "code",
   "execution_count": 2,
   "metadata": {},
   "outputs": [
    {
     "data": {
      "text/plain": [
       "'\\nENJOYMENT (1 feature)\\nPerceived enjoyment is positively related to frequency of Internet usage\\nTherfore, Perceived enjoyment is positively related to frequency of Social media usage\\nTherfore, Perceived enjoyment is positively related to frequency of retweets,tweets per day\\nDerive frequency of action for each category, Percived enjoyment is positvely related to \\nfrequency of action: retweeted, quoted, replied_to\\n\\nSELF-EFICACY (1 feature)\\nSocial media self-efficacy is based upon a person’s level of social media content production and consumption, \\nperceived social media skill, and confidence in his or her ability to successfully find information online. \\nself-efficacy judgments social media self-efficacy was derived from the average of a person’s \\n(a) perceived social media skill, (b) confidence in ability to successfully find information online, \\n(c) level of social media content production, and (d) level of social media content consumption\\nPerceived social media skill - statuses count, account age, favourites_count\\nConfidence in ability to successfully find information online - number of followers, average number of content all followers produce\\nLevel of social media content production - frequency of tweets\\nLevel of social media content consumption - frequency of actions: retweeted, quoted, replied_to\\n\\nGROSS HAPPINESS SCORE (1 feature)\\nWe use LIWC categories to calculate the gross happiness score for each individual in terms of the standardized difference between their use of positive and negative words. According to Kramer (2010), \\nthis metric provides a way to compare the relative use of positive and negative expression and generate a metric that is independent of language and dictionary.\\n'"
      ]
     },
     "execution_count": 2,
     "metadata": {},
     "output_type": "execute_result"
    }
   ],
   "source": [
    "#### We catogories timeline tweets into following categories: retweeted, quoted, replied_to\n",
    "'''\n",
    "ENJOYMENT (1 feature)\n",
    "Perceived enjoyment is positively related to frequency of Internet usage\n",
    "Therfore, Perceived enjoyment is positively related to frequency of Social media usage\n",
    "Therfore, Perceived enjoyment is positively related to frequency of retweets,tweets per day\n",
    "Derive frequency of action for each category, Percived enjoyment is positvely related to \n",
    "frequency of action: retweeted, quoted, replied_to\n",
    "\n",
    "SELF-EFICACY (1 feature)\n",
    "Social media self-efficacy is based upon a person’s level of social media content production and consumption, \n",
    "perceived social media skill, and confidence in his or her ability to successfully find information online. \n",
    "self-efficacy judgments social media self-efficacy was derived from the average of a person’s \n",
    "(a) perceived social media skill, (b) confidence in ability to successfully find information online, \n",
    "(c) level of social media content production, and (d) level of social media content consumption\n",
    "Perceived social media skill - statuses count, account age, favourites_count\n",
    "Confidence in ability to successfully find information online - number of followers, average number of content all followers produce\n",
    "Level of social media content production - frequency of tweets\n",
    "Level of social media content consumption - frequency of actions: retweeted, quoted, replied_to\n",
    "\n",
    "GROSS HAPPINESS SCORE (1 feature)\n",
    "We use LIWC categories to calculate the gross happiness score for each individual in terms of the standardized difference between their use of positive and negative words. According to Kramer (2010), \n",
    "this metric provides a way to compare the relative use of positive and negative expression and generate a metric that is independent of language and dictionary.\n",
    "'''"
   ]
  },
  {
   "cell_type": "code",
   "execution_count": null,
   "metadata": {},
   "outputs": [],
   "source": []
  }
 ],
 "metadata": {
  "kernelspec": {
   "display_name": "Python 3",
   "language": "python",
   "name": "python3"
  },
  "language_info": {
   "codemirror_mode": {
    "name": "ipython",
    "version": 3
   },
   "file_extension": ".py",
   "mimetype": "text/x-python",
   "name": "python",
   "nbconvert_exporter": "python",
   "pygments_lexer": "ipython3",
   "version": "3.7.6"
  }
 },
 "nbformat": 4,
 "nbformat_minor": 4
}
