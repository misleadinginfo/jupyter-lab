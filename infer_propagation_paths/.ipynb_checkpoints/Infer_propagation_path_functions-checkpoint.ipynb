{
 "cells": [
  {
   "cell_type": "code",
   "execution_count": 1,
   "metadata": {},
   "outputs": [],
   "source": [
    "from anytree import Node, RenderTree, PreOrderIter\n",
    "import json\n",
    "from pymongo import MongoClient\n",
    "import glob\n",
    "import json\n",
    "\n",
    "from datetime import datetime\n",
    "\n",
    "import collections\n",
    "import anytree\n",
    "from anytree import Node, RenderTree, AsciiStyle, PreOrderIter"
   ]
  },
  {
   "cell_type": "code",
   "execution_count": 2,
   "metadata": {},
   "outputs": [],
   "source": [
    "def get_followers_len(user_id, db):\n",
    "    user = db['followers'].find_one({'user_id' : user_id})\n",
    "    followers = user['followers']\n",
    "    return len(followers)"
   ]
  },
  {
   "cell_type": "code",
   "execution_count": 8,
   "metadata": {},
   "outputs": [],
   "source": [
    "def get_cascade_size(user_id, collection_name, db):\n",
    "    return db[collection_name].count({'retweeted_status.user.id' : user_id})"
   ]
  },
  {
   "cell_type": "code",
   "execution_count": 4,
   "metadata": {},
   "outputs": [],
   "source": [
    "def difference_datetime(child_datetime, parent_datetime):\n",
    "    first_datetime = datetime.strftime(datetime.strptime(child_datetime,'%a %b %d %H:%M:%S +0000 %Y'), '%Y-%m-%d %H:%M:%S')\n",
    "    first_datetime = datetime.strptime(first_datetime, '%Y-%m-%d %H:%M:%S')\n",
    "    later_datetime = datetime.strftime(datetime.strptime(parent_datetime,'%a %b %d %H:%M:%S +0000 %Y'), '%Y-%m-%d %H:%M:%S')\n",
    "    later_datetime = datetime.strptime(later_datetime, '%Y-%m-%d %H:%M:%S')\n",
    "    return first_datetime - later_datetime"
   ]
  },
  {
   "cell_type": "code",
   "execution_count": 5,
   "metadata": {},
   "outputs": [],
   "source": [
    "def remove_duplicates(root) :\n",
    "    #get the length of the node\n",
    "    a = [node.path for node in PreOrderIter(root)]\n",
    "#     print(a)\n",
    "    names = []\n",
    "    for i in range(len(a)):\n",
    "        depth_of_node = len(a[i])\n",
    "        names.append(a[i][depth_of_node-1].name)\n",
    "    duplicates = [item for item, count in collections.Counter(names).items() if count > 1]\n",
    "    print(len(duplicates))\n",
    "    \n",
    "    # remove duplicates    \n",
    "    all_nodes_tobe_remove = []\n",
    "    for duplicate in duplicates:\n",
    "    #     print(duplicate)\n",
    "        nodes = anytree.search.findall_by_attr(root, duplicate)\n",
    "    #     print(nodes)\n",
    "        node_created_at = set()\n",
    "        node_different_seconds = []\n",
    "        # if not crated_at is equal\n",
    "            # keep the olderst node\n",
    "        # else\n",
    "            # keep the closest node to the parent\n",
    "\n",
    "        # get closest node to the parent\n",
    "        difference_seconds_sorted = sorted(nodes, key=lambda x: x.difference_seconds)\n",
    "\n",
    "        for node in nodes:\n",
    "            node_created_at.add(node.created_at)\n",
    "            node_different_seconds.append(node.difference_seconds)\n",
    "\n",
    "        if not len(node_created_at) ==  1:\n",
    "            print('keep the olderst node', difference_seconds_sorted[0])\n",
    "            all_nodes_tobe_remove.extend(difference_seconds_sorted[1:])\n",
    "        else:\n",
    "    #         print('keep the closest node to the parent: ', min(node_different_seconds), difference_seconds_sorted[0])\n",
    "            all_nodes_tobe_remove.extend(difference_seconds_sorted[1:])\n",
    "    print(len(all_nodes_tobe_remove))\n",
    "    for node in all_nodes_tobe_remove:\n",
    "        node.parent = None"
   ]
  },
  {
   "cell_type": "code",
   "execution_count": 10,
   "metadata": {},
   "outputs": [],
   "source": [
    "def add_depth_nodes(root, depth_n, tweet_user_ids, db, COLLECTION_NAME):\n",
    "    # Add depth n users\n",
    "    #get the length of the node\n",
    "    a = [node.path for node in PreOrderIter(root)]\n",
    "#     print(a)\n",
    "    names = []\n",
    "    for i in range(len(a)):\n",
    "        depth_of_node = len(a[i])\n",
    "        if depth_of_node == depth_n:\n",
    "            names.append(a[i][depth_of_node-1])\n",
    "    print(names[:5])\n",
    "          \n",
    "    # Add depth_n nodes to the cascade\n",
    "    for child in names:\n",
    "        followers = db['followers'].find({'user_id': child.name})\n",
    "        follower = list(followers)\n",
    "        if not len(follower) == 0:\n",
    "            child_followers = follower[0]['followers'] \n",
    "            child_potential_user_ids = list(set(child_followers) & set(tweet_user_ids))\n",
    "            # add depth 2 users to the tree and tweet created time\n",
    "            for user_id in child_potential_user_ids:\n",
    "                tweets = db[COLLECTION_NAME].find({'user.id':{'$in': child_potential_user_ids}})\n",
    "                for tweet in tweets:\n",
    "                    if tweet['user']['id'] == user_id:\n",
    "                        difference = difference_datetime(tweet['created_at'], child.created_at).total_seconds()\n",
    "                        if difference >= 0:\n",
    "                            globals()[f'user_{user_id}'] = Node(name = user_id, created_at = tweet['created_at'], difference_seconds = difference , parent = child)\n",
    "\n",
    "    for pre, fill, node in RenderTree(root): \n",
    "        print(\"%s user_id: %s, diff_s: %s\" % (pre, node.name, node.difference_seconds))\n",
    "    return root"
   ]
  },
  {
   "cell_type": "code",
   "execution_count": 7,
   "metadata": {},
   "outputs": [],
   "source": [
    "def multiple_root_users(root_tweet):\n",
    "    for root_user in root_tweet:\n",
    "        tweets = db[COLLECTION_NAME].find({})\n",
    "        followers = db['followers'].find({})\n",
    "        for tweet in tweets:\n",
    "            try:\n",
    "                user_id = root_user\n",
    "                created_at = tweet['retweeted_status']['created_at']\n",
    "            except KeyError as e:\n",
    "                continue    \n",
    "#         print('User id:',user_id, created_at)\n",
    "        root = Node(name = user_id, created_at = created_at, difference_seconds =  0)\n",
    "\n",
    "#         print(root.name)\n",
    "\n",
    "        follower = db['followers'].find_one({'user_id' : root.name})\n",
    "        try:\n",
    "            print(follower['user_id'], len(follower['followers']))\n",
    "        except:\n",
    "            print('None, DB does not have the user: ', root.name)\n",
    "            continue"
   ]
  }
 ],
 "metadata": {
  "kernelspec": {
   "display_name": "Python 3",
   "language": "python",
   "name": "python3"
  },
  "language_info": {
   "codemirror_mode": {
    "name": "ipython",
    "version": 3
   },
   "file_extension": ".py",
   "mimetype": "text/x-python",
   "name": "python",
   "nbconvert_exporter": "python",
   "pygments_lexer": "ipython3",
   "version": "3.7.6"
  }
 },
 "nbformat": 4,
 "nbformat_minor": 4
}
