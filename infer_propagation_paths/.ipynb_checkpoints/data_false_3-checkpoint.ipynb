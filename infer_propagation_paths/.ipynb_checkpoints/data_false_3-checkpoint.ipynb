{
 "cells": [
  {
   "cell_type": "code",
   "execution_count": 16,
   "metadata": {},
   "outputs": [],
   "source": [
    "from ipynb.fs.full.Infer_propagation_path_functions import *\n"
   ]
  },
  {
   "cell_type": "code",
   "execution_count": 7,
   "metadata": {},
   "outputs": [],
   "source": [
    "client = MongoClient('mongodb://localhost:27017/')\n",
    "\n",
    "db = client.get_database('tweets')"
   ]
  },
  {
   "cell_type": "code",
   "execution_count": 8,
   "metadata": {
    "scrolled": true,
    "tags": []
   },
   "outputs": [
    {
     "data": {
      "text/plain": [
       "[1379810428197482499,\n",
       " 1582038943,\n",
       " 1379810428197482499,\n",
       " 87612386,\n",
       " 1379810428197482499,\n",
       " 1097352785794785280,\n",
       " 1301024185767125000,\n",
       " 1195887405494079489,\n",
       " 1315095273434210305,\n",
       " 1379810428197482499,\n",
       " 1379810428197482499,\n",
       " 1379810428197482499,\n",
       " 37943674,\n",
       " 1244994281426878464,\n",
       " 1041626063577669632,\n",
       " 1212270170615341056,\n",
       " 1179943673624190977,\n",
       " 1379810428197482499,\n",
       " 1379810428197482499,\n",
       " 1379810428197482499,\n",
       " 1174000620275163138,\n",
       " 114251756,\n",
       " 1509690282,\n",
       " 1246852606686830593,\n",
       " 122298741,\n",
       " 449750063,\n",
       " 1379810428197482499,\n",
       " 1379810428197482499,\n",
       " 1379810428197482499,\n",
       " 1379810428197482499,\n",
       " 4297338075,\n",
       " 4297338075,\n",
       " 805079630000443392,\n",
       " 1379810428197482499,\n",
       " 1379810428197482499,\n",
       " 790019230389248000,\n",
       " 2627013992,\n",
       " 711844276569681920,\n",
       " 1379810428197482499,\n",
       " 936373163272712193,\n",
       " 103550320,\n",
       " 1379810428197482499,\n",
       " 1255016368769916928,\n",
       " 1302841354461081601,\n",
       " 1299809641879269377,\n",
       " 29246937,\n",
       " 2379472700]"
      ]
     },
     "execution_count": 8,
     "metadata": {},
     "output_type": "execute_result"
    }
   ],
   "source": [
    "COLLECTION_NAME = 'data_false_3'\n",
    "tweets = db[COLLECTION_NAME].find({})\n",
    "followers = db['followers'].find({})\n",
    "\n",
    "tweet_user_ids = []\n",
    "for tweet in tweets:\n",
    "    tweet_user_ids.append(tweet['user']['id'])\n",
    "\n",
    "tweet_user_ids"
   ]
  },
  {
   "cell_type": "code",
   "execution_count": 9,
   "metadata": {
    "scrolled": true,
    "tags": []
   },
   "outputs": [
    {
     "name": "stdout",
     "output_type": "stream",
     "text": [
      "{4297338075, 201078471, 1244994281426878464, 1509690282, 1174000620275163138, 1212270170615341056, 1255016368769916928, 790019230389248000, 1301024185767125000}\n"
     ]
    },
    {
     "ename": "NameError",
     "evalue": "name 'db' is not defined",
     "output_type": "error",
     "traceback": [
      "\u001b[1;31m---------------------------------------------------------------------------\u001b[0m",
      "\u001b[1;31mNameError\u001b[0m                                 Traceback (most recent call last)",
      "\u001b[1;32m<ipython-input-9-2f8a6b6881c6>\u001b[0m in \u001b[0;36m<module>\u001b[1;34m\u001b[0m\n\u001b[0;32m     81\u001b[0m         \u001b[0mprint\u001b[0m\u001b[1;33m(\u001b[0m\u001b[1;34m\"%s user_id: %s, created_at: %s, difference_seconds: %s\"\u001b[0m \u001b[1;33m%\u001b[0m \u001b[1;33m(\u001b[0m\u001b[0mpre\u001b[0m\u001b[1;33m,\u001b[0m \u001b[0mnode\u001b[0m\u001b[1;33m.\u001b[0m\u001b[0mname\u001b[0m\u001b[1;33m,\u001b[0m \u001b[0mnode\u001b[0m\u001b[1;33m.\u001b[0m\u001b[0mcreated_at\u001b[0m\u001b[1;33m,\u001b[0m \u001b[0mnode\u001b[0m\u001b[1;33m.\u001b[0m\u001b[0mdifference_seconds\u001b[0m\u001b[1;33m)\u001b[0m\u001b[1;33m)\u001b[0m\u001b[1;33m\u001b[0m\u001b[1;33m\u001b[0m\u001b[0m\n\u001b[0;32m     82\u001b[0m \u001b[1;32melse\u001b[0m\u001b[1;33m:\u001b[0m\u001b[1;33m\u001b[0m\u001b[1;33m\u001b[0m\u001b[0m\n\u001b[1;32m---> 83\u001b[1;33m     \u001b[0mmultiple_root_users\u001b[0m\u001b[1;33m(\u001b[0m\u001b[0mroot_tweet\u001b[0m\u001b[1;33m)\u001b[0m\u001b[1;33m\u001b[0m\u001b[1;33m\u001b[0m\u001b[0m\n\u001b[0m\u001b[0;32m     84\u001b[0m \u001b[1;31m#     raise('Cascade has more than one root user')\u001b[0m\u001b[1;33m\u001b[0m\u001b[1;33m\u001b[0m\u001b[1;33m\u001b[0m\u001b[0m\n",
      "\u001b[1;32m~\\jupyter_lab\\infer_propagation_paths\\Infer_propagation_path_functions.ipynb\u001b[0m in \u001b[0;36mmultiple_root_users\u001b[1;34m(root_tweet)\u001b[0m\n\u001b[0;32m    106\u001b[0m   {\n\u001b[0;32m    107\u001b[0m    \u001b[1;34m\"cell_type\"\u001b[0m\u001b[1;33m:\u001b[0m \u001b[1;34m\"code\"\u001b[0m\u001b[1;33m,\u001b[0m\u001b[1;33m\u001b[0m\u001b[1;33m\u001b[0m\u001b[0m\n\u001b[1;32m--> 108\u001b[1;33m    \u001b[1;34m\"execution_count\"\u001b[0m\u001b[1;33m:\u001b[0m \u001b[1;36m6\u001b[0m\u001b[1;33m,\u001b[0m\u001b[1;33m\u001b[0m\u001b[1;33m\u001b[0m\u001b[0m\n\u001b[0m\u001b[0;32m    109\u001b[0m    \u001b[1;34m\"metadata\"\u001b[0m\u001b[1;33m:\u001b[0m \u001b[1;33m{\u001b[0m\u001b[1;33m}\u001b[0m\u001b[1;33m,\u001b[0m\u001b[1;33m\u001b[0m\u001b[1;33m\u001b[0m\u001b[0m\n\u001b[0;32m    110\u001b[0m    \u001b[1;34m\"outputs\"\u001b[0m\u001b[1;33m:\u001b[0m \u001b[1;33m[\u001b[0m\u001b[1;33m]\u001b[0m\u001b[1;33m,\u001b[0m\u001b[1;33m\u001b[0m\u001b[1;33m\u001b[0m\u001b[0m\n",
      "\u001b[1;31mNameError\u001b[0m: name 'db' is not defined"
     ]
    }
   ],
   "source": [
    "'''\n",
    "has a root user 1\n",
    "root user has followers 1\n",
    "If a root user followers intersects with tweets, they are cascade depth one users 1\n",
    "if a cascade depth one user followers intersects with tweets, they are cascade depth two users\n",
    "...\n",
    "if a cascade depth n-1 user followers intersects with tweets, they are cascade depth n users\n",
    "\n",
    "Lets say parent user publish a tweet and the child re-tweet that exact tweet.\n",
    "child timestamp must be after the parent's time stamp\n",
    "If child has many parents, parent with the most recent time stamp will be the owner of the child tweet  \n",
    "'''\n",
    "tweets = db[COLLECTION_NAME].find({})\n",
    "#get root tweet\n",
    "root_tweet = set()\n",
    "for tweet in tweets:\n",
    "    try:\n",
    "        root_tweet.add(tweet['retweeted_status']['user']['id'])\n",
    "    except KeyError as e:\n",
    "        continue\n",
    "print(root_tweet)\n",
    "\n",
    "tweets = db[COLLECTION_NAME].find({})\n",
    "\n",
    "# Create root node user_id, created_at\n",
    "\n",
    "if len(root_tweet) == 1:\n",
    "    for tweet in tweets:\n",
    "        try:\n",
    "            user_id = tweet['retweeted_status']['user']['id']\n",
    "            created_at = tweet['retweeted_status']['created_at']\n",
    "        except KeyError as e:\n",
    "            continue\n",
    "            \n",
    "    print(user_id, created_at)\n",
    "\n",
    "    root = Node(name = user_id, created_at = created_at, difference_seconds =  0)\n",
    "    print(root.name)\n",
    "\n",
    "    follower = db['followers'].find_one({'user_id' : root.name})\n",
    "    try:\n",
    "        print(follower['user_id'])\n",
    "    except:\n",
    "        print('None, DB does not have the user: ', root.name)\n",
    "        \n",
    "    #get depth 1 users\n",
    "\n",
    "    if follower['user_id'] == root.name:\n",
    "        root_followers = follower['followers']           \n",
    "\n",
    "    root_followers\n",
    "\n",
    "    tweets = db[COLLECTION_NAME].find({})\n",
    "    followers = db['followers'].find({})\n",
    "\n",
    "    tweet_user_ids = []\n",
    "    for tweet in tweets:\n",
    "        tweet_user_ids.append(tweet['user']['id'])\n",
    "\n",
    "    tweet_user_ids\n",
    "\n",
    "    cascade_depth_one_user_ids = list(set(root_followers) & set(tweet_user_ids))\n",
    "\n",
    "    len(cascade_depth_one_user_ids)\n",
    "\n",
    "    tweets = db[COLLECTION_NAME].find({})\n",
    "    followers = db['followers'].find({})\n",
    "\n",
    "    # add depth 1 users to the tree\n",
    "    for user_id in cascade_depth_one_user_ids:\n",
    "        tweets = db[COLLECTION_NAME].find({})\n",
    "        for tweet in tweets:\n",
    "            if tweet['user']['id'] == user_id:\n",
    "                print(tweet['created_at'])\n",
    "                difference = difference_datetime(tweet['created_at'], root.created_at).total_seconds()\n",
    "                print(difference)\n",
    "                globals()[f'user_{user_id}'] = Node(name = user_id, created_at = tweet['created_at'], difference_seconds = difference , parent = root)\n",
    "\n",
    "\n",
    "    for pre, fill, node in RenderTree(root):\n",
    "        print(\"%s user_id: %s, created_at: %s, difference_seconds: %s\" % (pre, node.name, node.created_at, node.difference_seconds))\n",
    "else:\n",
    "    multiple_root_users(root_tweet)\n",
    "#     raise('Cascade has more than one root user')"
   ]
  },
  {
   "cell_type": "code",
   "execution_count": 10,
   "metadata": {},
   "outputs": [],
   "source": [
    "users = [4297338075, 201078471, 1244994281426878464, 1509690282, 1174000620275163138, 1212270170615341056, 1255016368769916928, 790019230389248000, 1301024185767125000]"
   ]
  },
  {
   "cell_type": "code",
   "execution_count": 17,
   "metadata": {},
   "outputs": [
    {
     "ename": "TypeError",
     "evalue": "get_followers_len() takes 1 positional argument but 2 were given",
     "output_type": "error",
     "traceback": [
      "\u001b[1;31m---------------------------------------------------------------------------\u001b[0m",
      "\u001b[1;31mTypeError\u001b[0m                                 Traceback (most recent call last)",
      "\u001b[1;32m<ipython-input-17-af9d4d5ea2ec>\u001b[0m in \u001b[0;36m<module>\u001b[1;34m\u001b[0m\n\u001b[0;32m      1\u001b[0m \u001b[1;32mfor\u001b[0m \u001b[0muser\u001b[0m \u001b[1;32min\u001b[0m \u001b[0musers\u001b[0m\u001b[1;33m:\u001b[0m\u001b[1;33m\u001b[0m\u001b[1;33m\u001b[0m\u001b[0m\n\u001b[1;32m----> 2\u001b[1;33m     \u001b[0mprint\u001b[0m\u001b[1;33m(\u001b[0m\u001b[0muser\u001b[0m\u001b[1;33m,\u001b[0m \u001b[0mget_followers_len\u001b[0m\u001b[1;33m(\u001b[0m\u001b[0muser\u001b[0m\u001b[1;33m,\u001b[0m \u001b[0mdb\u001b[0m\u001b[1;33m)\u001b[0m\u001b[1;33m)\u001b[0m\u001b[1;33m\u001b[0m\u001b[1;33m\u001b[0m\u001b[0m\n\u001b[0m",
      "\u001b[1;31mTypeError\u001b[0m: get_followers_len() takes 1 positional argument but 2 were given"
     ]
    }
   ],
   "source": [
    "for user in users:\n",
    "    print(user, get_followers_len(user, db))"
   ]
  }
 ],
 "metadata": {
  "kernelspec": {
   "display_name": "Python 3",
   "language": "python",
   "name": "python3"
  },
  "language_info": {
   "codemirror_mode": {
    "name": "ipython",
    "version": 3
   },
   "file_extension": ".py",
   "mimetype": "text/x-python",
   "name": "python",
   "nbconvert_exporter": "python",
   "pygments_lexer": "ipython3",
   "version": "3.7.6"
  }
 },
 "nbformat": 4,
 "nbformat_minor": 4
}
