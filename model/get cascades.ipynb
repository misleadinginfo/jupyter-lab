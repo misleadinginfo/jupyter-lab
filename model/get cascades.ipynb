{
 "cells": [
  {
   "cell_type": "code",
   "execution_count": 9,
   "id": "73db8c5a-c965-4ff7-860f-cddf318b6d6c",
   "metadata": {},
   "outputs": [],
   "source": [
    "class Cascade:\n",
    "    def get_cascade(self, file_name):\n",
    "        # read json\n",
    "        # read each cascade\n",
    "        # save each cascade with it's ground truth\n",
    "        # data structure\n",
    "        '''\n",
    "        'node_sequence' : []\n",
    "        'ground_truth' : boolean \n",
    "        '''\n",
    "        print('get_cascade: ', file_name )\n",
    "        \n",
    "        \n",
    "        \n",
    "    def get_node(self)\n",
    "        # read database\n",
    "        # return all emotionl words and entities\n",
    "        # populate_cascade\n",
    "        '''\n",
    "        node_features_sequence: [{\n",
    "            'user_id': str \n",
    "            'emotional_frequecy': \n",
    "                {\n",
    "                 'fear': 0.14285714285714285,\n",
    "                 'anger': 0.2857142857142857,\n",
    "                 'anticip': 0.0,\n",
    "                 'trust': 0.0,\n",
    "                 'surprise': 0.0,\n",
    "                 'positive': 0.0,\n",
    "                 'negative': 0.42857142857142855,\n",
    "                 'sadness': 0.14285714285714285,\n",
    "                 'disgust': 0.0,\n",
    "                 'joy': 0.0\n",
    "                 }\n",
    "            'followers_count': int\n",
    "            'friends_count': int\n",
    "            'listed_count': int\n",
    "            'statuses_count': int\n",
    "            'created_at': Time\n",
    "        }]\n",
    "        '''\n",
    "    \n",
    "    def get_relationship(self):\n",
    "        # get cascades and get nodes\n",
    "        # return relationship features\n",
    "        # populate cascade\n",
    "        '''\n",
    "        relationship_sequence: [{\n",
    "        'node_differece':{\n",
    "        \n",
    "        },\n",
    "        'node_mean'{\n",
    "        \n",
    "        },\n",
    "        'cascade_mean'\n",
    "        }]\n",
    "        '''\n",
    "        \n",
    "class SequenceClassification:\n",
    "    def model_lstm(self):\n",
    "\n",
    "    def model_rnn(self):\n",
    "                \n",
    "    def model_cnn(self):"
   ]
  },
  {
   "cell_type": "code",
   "execution_count": 10,
   "id": "f3c178e9-4147-4eab-9ad2-bb37b81d1184",
   "metadata": {},
   "outputs": [],
   "source": [
    "obj = Cascade()"
   ]
  },
  {
   "cell_type": "code",
   "execution_count": 12,
   "id": "8019ed1e-9173-4655-980d-4f749663da94",
   "metadata": {},
   "outputs": [
    {
     "name": "stdout",
     "output_type": "stream",
     "text": [
      "hello\n"
     ]
    }
   ],
   "source": [
    "obj.get_cascade('m')"
   ]
  },
  {
   "cell_type": "code",
   "execution_count": null,
   "id": "fcd9333e-055e-46d5-ab7f-f9e80acc9d99",
   "metadata": {},
   "outputs": [],
   "source": []
  }
 ],
 "metadata": {
  "kernelspec": {
   "display_name": "Python 3",
   "language": "python",
   "name": "python3"
  },
  "language_info": {
   "codemirror_mode": {
    "name": "ipython",
    "version": 3
   },
   "file_extension": ".py",
   "mimetype": "text/x-python",
   "name": "python",
   "nbconvert_exporter": "python",
   "pygments_lexer": "ipython3",
   "version": "3.8.8"
  }
 },
 "nbformat": 4,
 "nbformat_minor": 5
}
