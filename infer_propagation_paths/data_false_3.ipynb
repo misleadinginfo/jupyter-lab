{
 "cells": [
  {
   "cell_type": "code",
   "execution_count": 1,
   "metadata": {},
   "outputs": [],
   "source": [
    "from ipynb.fs.full.Infer_propagation_path_functions import *\n",
    "\n",
    "from pymongo import MongoClient"
   ]
  },
  {
   "cell_type": "code",
   "execution_count": 2,
   "metadata": {},
   "outputs": [],
   "source": [
    "client = MongoClient('mongodb://localhost:27017/')\n",
    "\n",
    "db = client.get_database('tweets')"
   ]
  },
  {
   "cell_type": "code",
   "execution_count": 3,
   "metadata": {
    "scrolled": true,
    "tags": []
   },
   "outputs": [
    {
     "data": {
      "text/plain": [
       "[1379810428197482499,\n",
       " 1582038943,\n",
       " 1379810428197482499,\n",
       " 87612386,\n",
       " 1379810428197482499,\n",
       " 1097352785794785280,\n",
       " 1301024185767125000,\n",
       " 1195887405494079489,\n",
       " 1315095273434210305,\n",
       " 1379810428197482499,\n",
       " 1379810428197482499,\n",
       " 1379810428197482499,\n",
       " 37943674,\n",
       " 1244994281426878464,\n",
       " 1041626063577669632,\n",
       " 1212270170615341056,\n",
       " 1179943673624190977,\n",
       " 1379810428197482499,\n",
       " 1379810428197482499,\n",
       " 1379810428197482499,\n",
       " 1174000620275163138,\n",
       " 114251756,\n",
       " 1509690282,\n",
       " 1246852606686830593,\n",
       " 122298741,\n",
       " 449750063,\n",
       " 1379810428197482499,\n",
       " 1379810428197482499,\n",
       " 1379810428197482499,\n",
       " 1379810428197482499,\n",
       " 4297338075,\n",
       " 4297338075,\n",
       " 805079630000443392,\n",
       " 1379810428197482499,\n",
       " 1379810428197482499,\n",
       " 790019230389248000,\n",
       " 2627013992,\n",
       " 711844276569681920,\n",
       " 1379810428197482499,\n",
       " 936373163272712193,\n",
       " 103550320,\n",
       " 1379810428197482499,\n",
       " 1255016368769916928,\n",
       " 1302841354461081601,\n",
       " 1299809641879269377,\n",
       " 29246937,\n",
       " 2379472700]"
      ]
     },
     "execution_count": 3,
     "metadata": {},
     "output_type": "execute_result"
    }
   ],
   "source": [
    "COLLECTION_NAME = 'data_false_3'\n",
    "tweets = db[COLLECTION_NAME].find({})\n",
    "followers = db['followers'].find({})\n",
    "\n",
    "tweet_user_ids = []\n",
    "for tweet in tweets:\n",
    "    tweet_user_ids.append(tweet['user']['id'])\n",
    "\n",
    "tweet_user_ids"
   ]
  },
  {
   "cell_type": "code",
   "execution_count": 9,
   "metadata": {
    "scrolled": true,
    "tags": []
   },
   "outputs": [
    {
     "name": "stdout",
     "output_type": "stream",
     "text": [
      "{4297338075, 201078471, 1244994281426878464, 1509690282, 1174000620275163138, 1212270170615341056, 1255016368769916928, 790019230389248000, 1301024185767125000}\n"
     ]
    },
    {
     "ename": "NameError",
     "evalue": "name 'db' is not defined",
     "output_type": "error",
     "traceback": [
      "\u001b[1;31m---------------------------------------------------------------------------\u001b[0m",
      "\u001b[1;31mNameError\u001b[0m                                 Traceback (most recent call last)",
      "\u001b[1;32m<ipython-input-9-2f8a6b6881c6>\u001b[0m in \u001b[0;36m<module>\u001b[1;34m\u001b[0m\n\u001b[0;32m     81\u001b[0m         \u001b[0mprint\u001b[0m\u001b[1;33m(\u001b[0m\u001b[1;34m\"%s user_id: %s, created_at: %s, difference_seconds: %s\"\u001b[0m \u001b[1;33m%\u001b[0m \u001b[1;33m(\u001b[0m\u001b[0mpre\u001b[0m\u001b[1;33m,\u001b[0m \u001b[0mnode\u001b[0m\u001b[1;33m.\u001b[0m\u001b[0mname\u001b[0m\u001b[1;33m,\u001b[0m \u001b[0mnode\u001b[0m\u001b[1;33m.\u001b[0m\u001b[0mcreated_at\u001b[0m\u001b[1;33m,\u001b[0m \u001b[0mnode\u001b[0m\u001b[1;33m.\u001b[0m\u001b[0mdifference_seconds\u001b[0m\u001b[1;33m)\u001b[0m\u001b[1;33m)\u001b[0m\u001b[1;33m\u001b[0m\u001b[1;33m\u001b[0m\u001b[0m\n\u001b[0;32m     82\u001b[0m \u001b[1;32melse\u001b[0m\u001b[1;33m:\u001b[0m\u001b[1;33m\u001b[0m\u001b[1;33m\u001b[0m\u001b[0m\n\u001b[1;32m---> 83\u001b[1;33m     \u001b[0mmultiple_root_users\u001b[0m\u001b[1;33m(\u001b[0m\u001b[0mroot_tweet\u001b[0m\u001b[1;33m)\u001b[0m\u001b[1;33m\u001b[0m\u001b[1;33m\u001b[0m\u001b[0m\n\u001b[0m\u001b[0;32m     84\u001b[0m \u001b[1;31m#     raise('Cascade has more than one root user')\u001b[0m\u001b[1;33m\u001b[0m\u001b[1;33m\u001b[0m\u001b[1;33m\u001b[0m\u001b[0m\n",
      "\u001b[1;32m~\\jupyter_lab\\infer_propagation_paths\\Infer_propagation_path_functions.ipynb\u001b[0m in \u001b[0;36mmultiple_root_users\u001b[1;34m(root_tweet)\u001b[0m\n\u001b[0;32m    106\u001b[0m   {\n\u001b[0;32m    107\u001b[0m    \u001b[1;34m\"cell_type\"\u001b[0m\u001b[1;33m:\u001b[0m \u001b[1;34m\"code\"\u001b[0m\u001b[1;33m,\u001b[0m\u001b[1;33m\u001b[0m\u001b[1;33m\u001b[0m\u001b[0m\n\u001b[1;32m--> 108\u001b[1;33m    \u001b[1;34m\"execution_count\"\u001b[0m\u001b[1;33m:\u001b[0m \u001b[1;36m6\u001b[0m\u001b[1;33m,\u001b[0m\u001b[1;33m\u001b[0m\u001b[1;33m\u001b[0m\u001b[0m\n\u001b[0m\u001b[0;32m    109\u001b[0m    \u001b[1;34m\"metadata\"\u001b[0m\u001b[1;33m:\u001b[0m \u001b[1;33m{\u001b[0m\u001b[1;33m}\u001b[0m\u001b[1;33m,\u001b[0m\u001b[1;33m\u001b[0m\u001b[1;33m\u001b[0m\u001b[0m\n\u001b[0;32m    110\u001b[0m    \u001b[1;34m\"outputs\"\u001b[0m\u001b[1;33m:\u001b[0m \u001b[1;33m[\u001b[0m\u001b[1;33m]\u001b[0m\u001b[1;33m,\u001b[0m\u001b[1;33m\u001b[0m\u001b[1;33m\u001b[0m\u001b[0m\n",
      "\u001b[1;31mNameError\u001b[0m: name 'db' is not defined"
     ]
    }
   ],
   "source": [
    "'''\n",
    "has a root user 1\n",
    "root user has followers 1\n",
    "If a root user followers intersects with tweets, they are cascade depth one users 1\n",
    "if a cascade depth one user followers intersects with tweets, they are cascade depth two users\n",
    "...\n",
    "if a cascade depth n-1 user followers intersects with tweets, they are cascade depth n users\n",
    "\n",
    "Lets say parent user publish a tweet and the child re-tweet that exact tweet.\n",
    "child timestamp must be after the parent's time stamp\n",
    "If child has many parents, parent with the most recent time stamp will be the owner of the child tweet  \n",
    "'''\n",
    "tweets = db[COLLECTION_NAME].find({})\n",
    "#get root tweet\n",
    "root_tweet = set()\n",
    "for tweet in tweets:\n",
    "    try:\n",
    "        root_tweet.add(tweet['retweeted_status']['user']['id'])\n",
    "    except KeyError as e:\n",
    "        continue\n",
    "print(root_tweet)\n",
    "\n",
    "tweets = db[COLLECTION_NAME].find({})\n",
    "\n",
    "# Create root node user_id, created_at\n",
    "\n",
    "if len(root_tweet) == 1:\n",
    "    for tweet in tweets:\n",
    "        try:\n",
    "            user_id = tweet['retweeted_status']['user']['id']\n",
    "            created_at = tweet['retweeted_status']['created_at']\n",
    "        except KeyError as e:\n",
    "            continue\n",
    "            \n",
    "    print(user_id, created_at)\n",
    "\n",
    "    root = Node(name = user_id, created_at = created_at, difference_seconds =  0)\n",
    "    print(root.name)\n",
    "\n",
    "    follower = db['followers'].find_one({'user_id' : root.name})\n",
    "    try:\n",
    "        print(follower['user_id'])\n",
    "    except:\n",
    "        print('None, DB does not have the user: ', root.name)\n",
    "        \n",
    "    #get depth 1 users\n",
    "\n",
    "    if follower['user_id'] == root.name:\n",
    "        root_followers = follower['followers']           \n",
    "\n",
    "    root_followers\n",
    "\n",
    "    tweets = db[COLLECTION_NAME].find({})\n",
    "    followers = db['followers'].find({})\n",
    "\n",
    "    tweet_user_ids = []\n",
    "    for tweet in tweets:\n",
    "        tweet_user_ids.append(tweet['user']['id'])\n",
    "\n",
    "    tweet_user_ids\n",
    "\n",
    "    cascade_depth_one_user_ids = list(set(root_followers) & set(tweet_user_ids))\n",
    "\n",
    "    len(cascade_depth_one_user_ids)\n",
    "\n",
    "    tweets = db[COLLECTION_NAME].find({})\n",
    "    followers = db['followers'].find({})\n",
    "\n",
    "    # add depth 1 users to the tree\n",
    "    for user_id in cascade_depth_one_user_ids:\n",
    "        tweets = db[COLLECTION_NAME].find({})\n",
    "        for tweet in tweets:\n",
    "            if tweet['user']['id'] == user_id:\n",
    "                print(tweet['created_at'])\n",
    "                difference = difference_datetime(tweet['created_at'], root.created_at).total_seconds()\n",
    "                print(difference)\n",
    "                globals()[f'user_{user_id}'] = Node(name = user_id, created_at = tweet['created_at'], difference_seconds = difference , parent = root)\n",
    "\n",
    "\n",
    "    for pre, fill, node in RenderTree(root):\n",
    "        print(\"%s user_id: %s, created_at: %s, difference_seconds: %s\" % (pre, node.name, node.created_at, node.difference_seconds))\n",
    "else:\n",
    "    multiple_root_users(root_tweet)\n",
    "#     raise('Cascade has more than one root user')"
   ]
  },
  {
   "cell_type": "code",
   "execution_count": 4,
   "metadata": {},
   "outputs": [],
   "source": [
    "users = [4297338075, 201078471, 1244994281426878464, 1509690282, 1174000620275163138, 1212270170615341056, 1255016368769916928, 790019230389248000, 1301024185767125000]"
   ]
  },
  {
   "cell_type": "code",
   "execution_count": 5,
   "metadata": {},
   "outputs": [
    {
     "name": "stdout",
     "output_type": "stream",
     "text": [
      "4297338075 4580\n",
      "201078471 1172\n",
      "1244994281426878464 0\n",
      "1509690282 2401\n",
      "1174000620275163138 502\n",
      "1212270170615341056 1822\n",
      "1255016368769916928 1076\n",
      "790019230389248000 75177\n",
      "1301024185767125000 4015\n"
     ]
    }
   ],
   "source": [
    "for user in users:\n",
    "    print(user, get_followers_len(user, db))"
   ]
  },
  {
   "cell_type": "code",
   "execution_count": 8,
   "metadata": {},
   "outputs": [
    {
     "name": "stdout",
     "output_type": "stream",
     "text": [
      "4297338075 2\n",
      "201078471 1\n",
      "1244994281426878464 1\n",
      "1509690282 2\n",
      "1174000620275163138 1\n",
      "1212270170615341056 1\n",
      "1255016368769916928 2\n",
      "790019230389248000 1\n",
      "1301024185767125000 1\n"
     ]
    }
   ],
   "source": [
    "for user in users:\n",
    "    print(user, get_cascade_size(user, 'data_false_3', db))"
   ]
  },
  {
   "cell_type": "code",
   "execution_count": 9,
   "metadata": {},
   "outputs": [
    {
     "data": {
      "text/plain": [
       "\"\\nCheck if the text is same\\nIf text is same compare time stamps to infer the propagation path. We assign parent as the earliest tweet and child as parent's followers\\n\\n\""
      ]
     },
     "execution_count": 9,
     "metadata": {},
     "output_type": "execute_result"
    }
   ],
   "source": [
    "'''\n",
    "Check if the text is same\n",
    "If text is same compare time stamps to infer the propagation path. We assign parent as the earliest tweet and child as parent's followers\n",
    "\n",
    "'''"
   ]
  },
  {
   "cell_type": "code",
   "execution_count": 13,
   "metadata": {},
   "outputs": [
    {
     "data": {
      "text/plain": [
       "[\"@BitcoinSampo It's like getting pregnant with twins means you're pregnant for 18 months instead of 9. ;)\",\n",
       " '@Natalie_KateM Congratulations. Hope you are feeling well. Is it just one? My daughter is 22 months and I’m 18 week… https://t.co/Oggx6qPCs3',\n",
       " '@catturd2 AOC also said that if she has any children, she hopes she does not have twins, because she does not want… https://t.co/9qZI3mvSP6',\n",
       " '@ramen_chmait My twins are  recipients of this treatment.  At 18 weeks pregnant and born at 31 weeks now 5 and half months old 💙💙',\n",
       " 'AOC said she hopes she never has twins. She couldn’t imagine being pregnant for 18 months!',\n",
       " 'Alexandria Ocasio-Cortez has time and again been subject of controversy because of her outspoken nature. https://t.co/qGzlJNdCDr',\n",
       " 'Did AOC Say She Doesn’t Want to Have Twins as She Can’t Afford to be Pregnant for 18\\xa0Months? https://t.co/HtS6EDemw3',\n",
       " 'Does anyone remember when @ShelbyCairney1 thought you were pregnant for 18 months with twins and got death threats for 5 years. Good times x',\n",
       " 'I AM 18 months pregnant, with twins... I AM holding it in for 27 months, Tripplets...  do not share this...',\n",
       " 'I feel so bad for woman pregnant with twins, they have to be pregnant for 18 months.',\n",
       " 'I wonder how many periods I’ve had since I started them 🤔 after Dustin I didn’t have one for 18 months and after th… https://t.co/i3z5YsVNly',\n",
       " 'I would never want twins, being pregnant for 18 months sounds #HORRIBLE',\n",
       " 'I’m never gonna forget the day someone told me they thought you’d be pregnant for 18 months if you were having twins 😭',\n",
       " 'I’m watching an episode of Evil Lives Here... This lady was 18 when she got pregnant by her boyfriend. When she tol… https://t.co/bTdz2zhoPS',\n",
       " 'RT @ProbablyJut: i think the scariest part about having twins is being pregnant for 18 months',\n",
       " 'RT @aves_fave: I’m watching an episode of Evil Lives Here... This lady was 18 when she got pregnant by her boyfriend. When she told him he…',\n",
       " 'RT @greedymotivez: if you have twins are you pregnant for 18 months',\n",
       " 'RT @minrasamoodd: shoutout to people who’ve given birth to twins. I could never be pregnant for 18 months 😤',\n",
       " 'RT @politicalHEDGE: Did AOC Say She Doesn’t Want to Have Twins as She Can’t Afford to be Pregnant for 18\\xa0Months? https://t.co/HtS6EDemw3',\n",
       " 'RT @tatoysl: i think the scariest part of having twins is being pregnant for 18 months',\n",
       " 'RT @tee5star1: Women who are pregnant with twins, have to wait for 18 months that’s crazy',\n",
       " 'RT @trumpswithyou: AOC said she hopes she never has twins. She couldn’t imagine being pregnant for 18 months!',\n",
       " 'RT @walkhomeugly: having twins sohnds awful imagjne beung pregnant for 18 months',\n",
       " 'Women who are pregnant with twins, have to wait for 18 months that’s crazy',\n",
       " 'i think the scariest part about having twins is being pregnant for 18 months',\n",
       " 'i think the scariest part of having twins is being pregnant for 18 months',\n",
       " 'if you have twins are you pregnant for 18 months',\n",
       " 'shoutout to people who’ve given birth to twins. I could never be pregnant for 18 months 😤']"
      ]
     },
     "execution_count": 13,
     "metadata": {},
     "output_type": "execute_result"
    }
   ],
   "source": [
    "# Check if the text is same\n",
    "db['data_false_3'].distinct('text')"
   ]
  },
  {
   "cell_type": "code",
   "execution_count": 14,
   "metadata": {
    "scrolled": true,
    "tags": []
   },
   "outputs": [
    {
     "data": {
      "text/plain": [
       "[0, 1, 2, 3]"
      ]
     },
     "execution_count": 14,
     "metadata": {},
     "output_type": "execute_result"
    }
   ],
   "source": [
    "# Check if the text is same\n",
    "db['data_false_3'].distinct('retweet_count')"
   ]
  },
  {
   "cell_type": "code",
   "execution_count": 15,
   "metadata": {
    "scrolled": true,
    "tags": []
   },
   "outputs": [
    {
     "data": {
      "text/plain": [
       "[1, 2, 3, 4]"
      ]
     },
     "execution_count": 15,
     "metadata": {},
     "output_type": "execute_result"
    }
   ],
   "source": [
    "db['data_false_3'].distinct('retweeted_status.retweet_count')"
   ]
  },
  {
   "cell_type": "code",
   "execution_count": 16,
   "metadata": {
    "scrolled": true,
    "tags": []
   },
   "outputs": [
    {
     "data": {
      "text/plain": [
       "[]"
      ]
     },
     "execution_count": 16,
     "metadata": {},
     "output_type": "execute_result"
    }
   ],
   "source": [
    "db['data_false_3'].distinct('retweeted_status.quoted_status.retweet_count')"
   ]
  }
 ],
 "metadata": {
  "kernelspec": {
   "display_name": "Python 3",
   "language": "python",
   "name": "python3"
  },
  "language_info": {
   "codemirror_mode": {
    "name": "ipython",
    "version": 3
   },
   "file_extension": ".py",
   "mimetype": "text/x-python",
   "name": "python",
   "nbconvert_exporter": "python",
   "pygments_lexer": "ipython3",
   "version": "3.7.6"
  }
 },
 "nbformat": 4,
 "nbformat_minor": 4
}
